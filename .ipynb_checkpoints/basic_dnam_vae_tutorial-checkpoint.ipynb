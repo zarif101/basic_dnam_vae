{
 "cells": [
  {
   "cell_type": "markdown",
   "id": "3f48fbdf",
   "metadata": {},
   "source": [
    "# importing libraries"
   ]
  },
  {
   "cell_type": "code",
   "execution_count": 1,
   "id": "1435bb94",
   "metadata": {},
   "outputs": [],
   "source": [
    "import torch\n",
    "import numpy as np\n",
    "import pandas as pd\n",
    "import pickle"
   ]
  },
  {
   "cell_type": "code",
   "execution_count": 2,
   "id": "701bd12a",
   "metadata": {},
   "outputs": [],
   "source": [
    "PICKLE_DATA_PATH = 'dnam_data_dummy.pkl'\n",
    "with open(PICKLE_DATA_PATH, 'rb') as handle:\n",
    "    dataset = pickle.load(handle)"
   ]
  },
  {
   "cell_type": "code",
   "execution_count": 3,
   "id": "c878a777",
   "metadata": {},
   "outputs": [
    {
     "name": "stdout",
     "output_type": "stream",
     "text": [
      "(231, 5000)\n"
     ]
    }
   ],
   "source": [
    "phenotype_data = dataset['pheno']\n",
    "beta_value_data = dataset['beta']\n",
    "print(beta_value_data.shape)"
   ]
  },
  {
   "cell_type": "markdown",
   "id": "da719e58",
   "metadata": {},
   "source": [
    "# 231 x 5000 -- 231 samples, each sample has values for 5000 CpGs"
   ]
  },
  {
   "cell_type": "code",
   "execution_count": 4,
   "id": "075fefa3",
   "metadata": {},
   "outputs": [
    {
     "data": {
      "text/plain": [
       "True"
      ]
     },
     "execution_count": 4,
     "metadata": {},
     "output_type": "execute_result"
    }
   ],
   "source": [
    "beta_value_data.isnull().values.any()"
   ]
  },
  {
   "cell_type": "markdown",
   "id": "fb5296c1",
   "metadata": {},
   "source": [
    "Above cell shows we have some null/nan values in the dataset, we will impute/replace those with \"realisitc values\".  \n",
    "Alternatively, samples with missing values can just be removed, or dealt with in other methods"
   ]
  },
  {
   "cell_type": "code",
   "execution_count": 5,
   "id": "d7e53e02",
   "metadata": {},
   "outputs": [],
   "source": [
    "from sklearn.impute import SimpleImputer"
   ]
  },
  {
   "cell_type": "code",
   "execution_count": 6,
   "id": "b8240839",
   "metadata": {},
   "outputs": [
    {
     "name": "stderr",
     "output_type": "stream",
     "text": [
      "/dartfs-hpc/rc/home/8/f005g78/anaconda3/envs/env/lib/python3.7/site-packages/numpy/core/fromnumeric.py:87: RuntimeWarning: invalid value encountered in reduce\n",
      "  return ufunc.reduce(obj, axis, dtype, out, **passkwargs)\n",
      "/dartfs-hpc/rc/home/8/f005g78/anaconda3/envs/env/lib/python3.7/site-packages/numpy/core/fromnumeric.py:87: RuntimeWarning: invalid value encountered in reduce\n",
      "  return ufunc.reduce(obj, axis, dtype, out, **passkwargs)\n"
     ]
    }
   ],
   "source": [
    "imputer = SimpleImputer(missing_values=np.nan, strategy='mean')\n",
    "beta_value_data_imputed = imputer.fit_transform(beta_value_data)\n",
    "# we are replacing the missing/null/nan values with the mean of that CpG column\n",
    "# Can ignore the below red warnings"
   ]
  },
  {
   "cell_type": "code",
   "execution_count": 7,
   "id": "41f40475",
   "metadata": {},
   "outputs": [
    {
     "name": "stdout",
     "output_type": "stream",
     "text": [
      "False\n",
      "<class 'numpy.ndarray'>\n"
     ]
    }
   ],
   "source": [
    "print(np.isnan(beta_value_data_imputed).any())\n",
    "print(type(beta_value_data_imputed))"
   ]
  },
  {
   "cell_type": "markdown",
   "id": "19109bd4",
   "metadata": {},
   "source": [
    "With the above cell, we now see the following:\n",
    "- beta_value_data_imputed --> \"clean\", does not contain null/missing values anymore\n",
    "- beta_value_data_imputed is now a numpy array that contains the features"
   ]
  },
  {
   "cell_type": "markdown",
   "id": "f44a43bf",
   "metadata": {},
   "source": [
    "# Now, we will split the data into a training and validation set -- feel free to skip this, if it does not apply"
   ]
  },
  {
   "cell_type": "code",
   "execution_count": 8,
   "id": "f2f97cc8",
   "metadata": {},
   "outputs": [],
   "source": [
    "from sklearn.model_selection import train_test_split"
   ]
  },
  {
   "cell_type": "code",
   "execution_count": 9,
   "id": "f60aeeef",
   "metadata": {},
   "outputs": [
    {
     "name": "stdout",
     "output_type": "stream",
     "text": [
      "(200, 5000)\n",
      "(31, 5000)\n"
     ]
    }
   ],
   "source": [
    "X_train, X_test = train_test_split(beta_value_data_imputed,test_size=0.13,random_state=42)\n",
    "print(X_train.shape)\n",
    "print(X_test.shape)\n",
    "# Shape --> number of samples x number of CpGs"
   ]
  },
  {
   "cell_type": "markdown",
   "id": "14aab520",
   "metadata": {},
   "source": [
    "# Creating Pytorch Datasets and Dataloaders"
   ]
  },
  {
   "cell_type": "code",
   "execution_count": 10,
   "id": "922eb058",
   "metadata": {},
   "outputs": [],
   "source": [
    "from torch.utils.data import TensorDataset, DataLoader\n",
    "X_train_tensors = torch.Tensor(X_train)\n",
    "X_test_tensors = torch.Tensor(X_test)\n",
    "train_dataset = TensorDataset(X_train_tensors)\n",
    "test_dataset = TensorDataset(X_test_tensors)\n",
    "\n",
    "train_loader = DataLoader(train_dataset, batch_size=16)\n",
    "test_loader = DataLoader(test_dataset, batch_size=16)"
   ]
  },
  {
   "cell_type": "markdown",
   "id": "00cd3840",
   "metadata": {},
   "source": [
    "# Now we can create and train our VAE model"
   ]
  },
  {
   "cell_type": "markdown",
   "id": "00e28c10",
   "metadata": {},
   "source": [
    "Define model"
   ]
  },
  {
   "cell_type": "code",
   "execution_count": 11,
   "id": "06a3c265",
   "metadata": {},
   "outputs": [],
   "source": [
    "import torch.nn.functional as F\n",
    "import torch.nn as nn\n",
    "class VAE(nn.Module):\n",
    "    def __init__(self,n_cpgs,n_hidden,n_hidden_2):\n",
    "        super(VAE,self).__init__()\n",
    "        \n",
    "        self.encoder = nn.Linear(n_cpgs,n_hidden)\n",
    "        self.encoder_2 = nn.Linear(n_hidden,n_hidden_2)\n",
    "        # Can add additional encoder layers here\n",
    "        \n",
    "        self.mu = nn.Linear(n_hidden_2,n_hidden_2)\n",
    "        \n",
    "        self.logvar = nn.Linear(n_hidden_2,n_hidden_2)\n",
    "        \n",
    "        # Can add additional decoder layers here\n",
    "        self.decoder = nn.Linear(n_hidden_2,n_hidden)\n",
    "        self.decoder_2 = nn.Linear(n_hidden,n_cpgs)\n",
    "        \n",
    "    def encode(self,x):\n",
    "        x = F.relu(self.encoder(x))\n",
    "        x = F.relu(self.encoder_2(x))\n",
    "        mu = self.mu(x)\n",
    "        logvar = self.logvar(x)\n",
    "        return mu,logvar\n",
    "    \n",
    "    def reparam(self,mu,logvar):\n",
    "        std = torch.exp(0.5*logvar)\n",
    "        eps = torch.randn_like(std)\n",
    "        return mu + eps*std\n",
    "    \n",
    "    def decode(self,z):\n",
    "        z = F.relu(self.decoder(z))\n",
    "        z = torch.sigmoid(self.decoder_2(z))\n",
    "        # applying sigmoid function because beta values range from 0-1, and sigmoid ensures that\n",
    "        return z\n",
    "    \n",
    "    def forward(self,x):\n",
    "        mu,logvar = self.encode(x)\n",
    "        z = self.reparam(mu,logvar)\n",
    "        decoded = self.decode(z)\n",
    "        return decoded, mu, logvar"
   ]
  },
  {
   "cell_type": "markdown",
   "id": "91204e99",
   "metadata": {},
   "source": [
    "Define Loss"
   ]
  },
  {
   "cell_type": "code",
   "execution_count": 12,
   "id": "3eda2d1c",
   "metadata": {},
   "outputs": [],
   "source": [
    "def vae_loss(recon_x, x, mu, logvar, beta = 1e-3):\n",
    "    mse = torch.nn.functional.mse_loss(recon_x,x)\n",
    "    KLD = -0.5 * torch.sum(1 + logvar - mu.pow(2) - logvar.exp())\n",
    "    return mse+ KLD*beta, mse"
   ]
  },
  {
   "cell_type": "markdown",
   "id": "08a1ff25",
   "metadata": {},
   "source": [
    "Define train/val loops"
   ]
  },
  {
   "cell_type": "code",
   "execution_count": 13,
   "id": "90b260f8",
   "metadata": {},
   "outputs": [],
   "source": [
    "import copy\n",
    "def train_loop(model, train_loader, optimizer, device, beta=1e-2):\n",
    "    train_loss = 0\n",
    "    for batch_index, data in enumerate(train_loader):\n",
    "        data = data[0].to(device)\n",
    "        optimizer.zero_grad()\n",
    "\n",
    "        reconstructed_data, mu, logvar = model(data)\n",
    "        loss, mse = vae_loss(reconstructed_data, data, mu, logvar, beta)\n",
    "\n",
    "        train_loss += loss.item()\n",
    "        loss.backward()\n",
    "        optimizer.step()\n",
    "\n",
    "    train_loss /= (len(train_loader)/train_loader.batch_size) # average loss for the epoch\n",
    "    return train_loss\n",
    "\n",
    "def eval_loop(model, val_loader, device):\n",
    "    model.train(False)\n",
    "    val_loss = 0\n",
    "    for batch_index, data in enumerate(val_loader):\n",
    "        data = data[0].to(device)\n",
    "        reconstructed_data, mu, logvar = model(data)\n",
    "        loss, mse = vae_loss(reconstructed_data, data, mu, logvar)\n",
    "        val_loss = val_loss + loss.item()\n",
    "    val_loss = val_loss / (len(val_loader)/val_loader.batch_size)\n",
    "    return val_loss\n",
    "\n",
    "def train(model,epochs,train_loader,val_loader,optimizer,device,beta):\n",
    "    best_val_loss=np.inf\n",
    "    best_model_dict=copy.deepcopy(model).cpu().state_dict()\n",
    "    for epoch in range(epochs):\n",
    "        model.train(True)\n",
    "        train_loss=train_loop(model, train_loader, optimizer, device, beta)\n",
    "        val_loss=eval_loop(model, val_loader, device)\n",
    "        print(f'Epoch {epoch} Train Loss {train_loss}')\n",
    "        print(f'Epoch {epoch} Val Loss {val_loss}')\n",
    "        if val_loss<=best_val_loss:\n",
    "            best_model_dict=copy.deepcopy(model).cpu().state_dict()\n",
    "            best_val_loss=val_loss\n",
    "    model.load_state_dict(best_model_dict)"
   ]
  },
  {
   "cell_type": "markdown",
   "id": "3c334076",
   "metadata": {},
   "source": [
    "Define test loop"
   ]
  },
  {
   "cell_type": "code",
   "execution_count": 14,
   "id": "ff21fc3d",
   "metadata": {},
   "outputs": [],
   "source": [
    "def test_loop(model, val_loader, device):\n",
    "    Z=[]\n",
    "    model.train(False)\n",
    "    with torch.no_grad():\n",
    "        for batch_index, data in enumerate(val_loader):\n",
    "            data = data[0].to(device)\n",
    "            reconstructed_data, mu, logvar = model(data)\n",
    "            Z.append(mu.cpu().numpy())\n",
    "    return np.vstack(Z)"
   ]
  },
  {
   "cell_type": "markdown",
   "id": "f8eaccc3",
   "metadata": {},
   "source": [
    "Train model"
   ]
  },
  {
   "cell_type": "code",
   "execution_count": 19,
   "id": "04edd45d",
   "metadata": {},
   "outputs": [
    {
     "name": "stdout",
     "output_type": "stream",
     "text": [
      "Epoch 0 Train Loss 26.763242611518272\n",
      "Epoch 0 Val Loss 1.1390433311462402\n",
      "Epoch 1 Train Loss 4.947587398382334\n",
      "Epoch 1 Val Loss 1.1039457321166992\n",
      "Epoch 2 Train Loss 2.9664879395411563\n",
      "Epoch 2 Val Loss 1.1149696707725525\n",
      "Epoch 3 Train Loss 1.8376435408225427\n",
      "Epoch 3 Val Loss 1.1022226810455322\n",
      "Epoch 4 Train Loss 1.4266550082426805\n",
      "Epoch 4 Val Loss 1.0898057222366333\n",
      "Epoch 5 Train Loss 1.503828158745399\n",
      "Epoch 5 Val Loss 1.0832374095916748\n",
      "Epoch 6 Train Loss 1.4329711565604577\n",
      "Epoch 6 Val Loss 1.099819540977478\n",
      "Epoch 7 Train Loss 1.396333832007188\n",
      "Epoch 7 Val Loss 1.0854809284210205\n",
      "Epoch 8 Train Loss 1.2250036826500525\n",
      "Epoch 8 Val Loss 1.078172504901886\n",
      "Epoch 9 Train Loss 1.202667969923753\n",
      "Epoch 9 Val Loss 1.0874611735343933\n",
      "Epoch 10 Train Loss 1.2008683039591863\n",
      "Epoch 10 Val Loss 1.0968309044837952\n",
      "Epoch 11 Train Loss 1.2027217883330126\n",
      "Epoch 11 Val Loss 1.104176104068756\n",
      "Epoch 12 Train Loss 1.1982953823529756\n",
      "Epoch 12 Val Loss 1.0993047952651978\n",
      "Epoch 13 Train Loss 1.2222601450406587\n",
      "Epoch 13 Val Loss 1.075994074344635\n",
      "Epoch 14 Train Loss 1.2266869453283458\n",
      "Epoch 14 Val Loss 1.093753457069397\n",
      "Epoch 15 Train Loss 1.2748434085112352\n",
      "Epoch 15 Val Loss 1.1010470986366272\n",
      "Epoch 16 Train Loss 1.3813470877133882\n",
      "Epoch 16 Val Loss 1.0938655138015747\n",
      "Epoch 17 Train Loss 1.4825445872086744\n",
      "Epoch 17 Val Loss 1.0964304208755493\n",
      "Epoch 18 Train Loss 1.352294683456421\n",
      "Epoch 18 Val Loss 1.0841462016105652\n",
      "Epoch 19 Train Loss 1.2149033638147206\n",
      "Epoch 19 Val Loss 1.0879465341567993\n"
     ]
    }
   ],
   "source": [
    "DEVICE = torch.device('cuda:0') # use 'cpu' if you'd like to use cpu instead of gpu\n",
    "N_CPGS = X_train.shape[1] # shape is N_samples, N_cpgs\n",
    "vae_model = VAE(N_CPGS, 512, 256).to(DEVICE)\n",
    "optimizer = torch.optim.Adam(vae_model.parameters(), lr=0.001)\n",
    "train(vae_model, 20, train_loader, test_loader, optimizer, DEVICE, beta=1e-1)"
   ]
  },
  {
   "cell_type": "code",
   "execution_count": 20,
   "id": "f82e0d2a",
   "metadata": {},
   "outputs": [
    {
     "name": "stdout",
     "output_type": "stream",
     "text": [
      "Validation Set Loss: 1.0858784914016724\n"
     ]
    }
   ],
   "source": [
    "print(f\"Validation Set Loss: {eval_loop(vae_model, test_loader, DEVICE)}\")"
   ]
  },
  {
   "cell_type": "markdown",
   "id": "3cc33a4f",
   "metadata": {},
   "source": [
    "# now generate latent projection"
   ]
  },
  {
   "cell_type": "code",
   "execution_count": 21,
   "id": "9c3a0553",
   "metadata": {},
   "outputs": [],
   "source": [
    "Z=test_loop(vae_model, test_loader, DEVICE)"
   ]
  },
  {
   "cell_type": "markdown",
   "id": "4f4b47b9",
   "metadata": {},
   "source": [
    "# visualize\n"
   ]
  },
  {
   "cell_type": "code",
   "execution_count": 22,
   "id": "361941e2",
   "metadata": {},
   "outputs": [
    {
     "data": {
      "image/png": "[encoded data removed]",
      "text/plain": [
       "<Figure size 1920x1440 with 1 Axes>"
      ]
     },
     "metadata": {},
     "output_type": "display_data"
    }
   ],
   "source": [
    "from sklearn.decomposition import PCA\n",
    "import matplotlib.pyplot as plt, matplotlib; matplotlib.rcParams['figure.dpi']=300\n",
    "Z_pca=PCA(n_components=2,random_state=42).fit_transform(Z)\n",
    "plt.scatter(Z_pca[:,0],Z_pca[:,1],s=1)\n",
    "plt.show()"
   ]
  },
  {
   "cell_type": "code",
   "execution_count": 25,
   "id": "7cbf3983",
   "metadata": {},
   "outputs": [],
   "source": [
    "# Use the following if you would like to save the model\n",
    "PATH_TO_SAVE = 'dnam_vae_example'\n",
    "torch.save(vae_model, PATH_TO_SAVE)"
   ]
  },
  {
   "cell_type": "code",
   "execution_count": 26,
   "id": "8f91b1ac",
   "metadata": {},
   "outputs": [],
   "source": [
    "# To load up the model again in the future\n",
    "MODEL_PATH = 'dnam_vae_example'\n",
    "model_loaded = torch.load(MODEL_PATH)"
   ]
  }
 ],
 "metadata": {
  "kernelspec": {
   "display_name": "Python 3",
   "language": "python",
   "name": "python3"
  },
  "language_info": {
   "codemirror_mode": {
    "name": "ipython",
    "version": 3
   },
   "file_extension": ".py",
   "mimetype": "text/x-python",
   "name": "python",
   "nbconvert_exporter": "python",
   "pygments_lexer": "ipython3",
   "version": "3.7.10"
  }
 },
 "nbformat": 4,
 "nbformat_minor": 5
}
